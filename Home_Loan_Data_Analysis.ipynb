{
 "cells": [
  {
   "cell_type": "markdown",
   "id": "c89f0798-e99c-4923-9c79-efc889fb8441",
   "metadata": {},
   "source": [
    "# **Caltech AI/ML Bootcamp**\n",
    "## **Course 4: Deep Learning with Keras & TensorFlow**\n",
    "### **Course End Project: Home Loan Data Analysis**\n",
    "\n",
    "---\n",
    "\n",
    "**Author**:  **Paul Badu Yakubu**\n",
    "\n",
    "---\n",
    "\n",
    "### **Project Overview**\n",
    "In this project, we aim to build a deep learning model to predict the likelihood of loan defaults. Using historical data, we explore techniques such as data preprocessing, handling class imbalance, and implementing a robust neural network model with Keras and TensorFlow.\n",
    "\n",
    "---\n",
    "\n",
    "### **Key Objectives**\n",
    "1. Analyze historical loan data for insights.\n",
    "2. Handle imbalanced datasets using SMOTE.\n",
    "3. Build and train a deep learning model to predict loan default probability.\n",
    "4. Evaluate the model's performance with metrics like accuracy, sensitivity, and ROC-AUC.\n",
    "\n",
    "---\n",
    "\n",
    "### **Tools & Technologies**\n",
    "- **Python**  \n",
    "- **Pandas, NumPy**: Data manipulation and preprocessing  \n",
    "- **Matplotlib, Seaborn**: Data visualization  \n",
    "- **Scikit-learn**: Feature scaling and model evaluation  \n",
    "- **TensorFlow, Keras**: Deep learning framework  \n",
    "- **Imbalanced-learn (SMOTE)**: Balancing the dataset  \n",
    "\n",
    "---\n",
    "\n",
    "### **Project Structure**\n",
    "1. **Data Loading & Exploration**  \n",
    "   - Load the dataset and examine its structure.  \n",
    "   - Identify and handle missing values.  \n",
    "\n",
    "2. **Class Imbalance Handling**  \n",
    "   - Use SMOTE to balance the dataset.  \n",
    "   - Visualize the balanced dataset distribution.  \n",
    "\n",
    "3. **Feature Encoding & Scaling**  \n",
    "   - Encode categorical variables.  \n",
    "   - Normalize features with MinMaxScaler.  \n",
    "\n",
    "4. **Deep Learning Model**  \n",
    "   - Create a neural network with Keras.  \n",
    "   - Train the model and validate performance.  \n",
    "\n",
    "5. **Evaluation & Results**  \n",
    "   - Evaluate using confusion matrix and ROC-AUC curve.  \n",
    "   - Visualize results and derive insights.  \n",
    "\n",
    "---\n",
    "\n",
    "### **End Goal**\n",
    "To develop a predictive model that aids in identifying loan applicants with high default risks, ensuring a safer and more secure lending process.\n",
    "\n",
    "---\n"
   ]
  },
  {
   "cell_type": "markdown",
   "id": "aa879979-7292-4bdb-ac8c-399e24346d3d",
   "metadata": {},
   "source": [
    "## Import Necessary Libraries"
   ]
  },
  {
   "cell_type": "code",
   "execution_count": 39,
   "id": "ddfe0ded-508a-4104-af2c-a5be5de9ffb8",
   "metadata": {},
   "outputs": [],
   "source": [
    "import pandas as pd\n",
    "import numpy as np\n",
    "import matplotlib.pyplot as plt\n",
    "import seaborn as sns\n",
    "from sklearn.linear_model import Perceptron\n",
    "from sklearn.model_selection import train_test_split\n",
    "from sklearn.preprocessing import MinMaxScaler\n",
    "from imblearn.over_sampling import SMOTE\n",
    "from sklearn.metrics import confusion_matrix, accuracy_score, roc_curve, auc\n",
    "from tensorflow.keras.models import Sequential\n",
    "from tensorflow.keras.layers import Dense, Dropout\n",
    "%matplotlib inline"
   ]
  },
  {
   "cell_type": "markdown",
   "id": "c33f2d34-3726-44c6-9fe5-008490651799",
   "metadata": {},
   "source": [
    "# 1. Load Dataset"
   ]
  },
  {
   "cell_type": "code",
   "execution_count": 41,
   "id": "27fef846-29ae-4969-88bb-7449fd8b0ddc",
   "metadata": {},
   "outputs": [],
   "source": [
    "data = pd.read_csv(\"loan_data.csv\")"
   ]
  },
  {
   "cell_type": "code",
   "execution_count": 42,
   "id": "9473e042-2926-4f8f-ab71-cb9df62d5daf",
   "metadata": {},
   "outputs": [
    {
     "data": {
      "text/html": [
       "<div>\n",
       "<style scoped>\n",
       "    .dataframe tbody tr th:only-of-type {\n",
       "        vertical-align: middle;\n",
       "    }\n",
       "\n",
       "    .dataframe tbody tr th {\n",
       "        vertical-align: top;\n",
       "    }\n",
       "\n",
       "    .dataframe thead th {\n",
       "        text-align: right;\n",
       "    }\n",
       "</style>\n",
       "<table border=\"1\" class=\"dataframe\">\n",
       "  <thead>\n",
       "    <tr style=\"text-align: right;\">\n",
       "      <th></th>\n",
       "      <th>SK_ID_CURR</th>\n",
       "      <th>TARGET</th>\n",
       "      <th>NAME_CONTRACT_TYPE</th>\n",
       "      <th>CODE_GENDER</th>\n",
       "      <th>FLAG_OWN_CAR</th>\n",
       "      <th>FLAG_OWN_REALTY</th>\n",
       "      <th>CNT_CHILDREN</th>\n",
       "      <th>AMT_INCOME_TOTAL</th>\n",
       "      <th>AMT_CREDIT</th>\n",
       "      <th>AMT_ANNUITY</th>\n",
       "      <th>...</th>\n",
       "      <th>FLAG_DOCUMENT_18</th>\n",
       "      <th>FLAG_DOCUMENT_19</th>\n",
       "      <th>FLAG_DOCUMENT_20</th>\n",
       "      <th>FLAG_DOCUMENT_21</th>\n",
       "      <th>AMT_REQ_CREDIT_BUREAU_HOUR</th>\n",
       "      <th>AMT_REQ_CREDIT_BUREAU_DAY</th>\n",
       "      <th>AMT_REQ_CREDIT_BUREAU_WEEK</th>\n",
       "      <th>AMT_REQ_CREDIT_BUREAU_MON</th>\n",
       "      <th>AMT_REQ_CREDIT_BUREAU_QRT</th>\n",
       "      <th>AMT_REQ_CREDIT_BUREAU_YEAR</th>\n",
       "    </tr>\n",
       "  </thead>\n",
       "  <tbody>\n",
       "    <tr>\n",
       "      <th>0</th>\n",
       "      <td>100002</td>\n",
       "      <td>1</td>\n",
       "      <td>Cash loans</td>\n",
       "      <td>M</td>\n",
       "      <td>N</td>\n",
       "      <td>Y</td>\n",
       "      <td>0</td>\n",
       "      <td>202500.0</td>\n",
       "      <td>406597.5</td>\n",
       "      <td>24700.5</td>\n",
       "      <td>...</td>\n",
       "      <td>0</td>\n",
       "      <td>0</td>\n",
       "      <td>0</td>\n",
       "      <td>0</td>\n",
       "      <td>0.0</td>\n",
       "      <td>0.0</td>\n",
       "      <td>0.0</td>\n",
       "      <td>0.0</td>\n",
       "      <td>0.0</td>\n",
       "      <td>1.0</td>\n",
       "    </tr>\n",
       "    <tr>\n",
       "      <th>1</th>\n",
       "      <td>100003</td>\n",
       "      <td>0</td>\n",
       "      <td>Cash loans</td>\n",
       "      <td>F</td>\n",
       "      <td>N</td>\n",
       "      <td>N</td>\n",
       "      <td>0</td>\n",
       "      <td>270000.0</td>\n",
       "      <td>1293502.5</td>\n",
       "      <td>35698.5</td>\n",
       "      <td>...</td>\n",
       "      <td>0</td>\n",
       "      <td>0</td>\n",
       "      <td>0</td>\n",
       "      <td>0</td>\n",
       "      <td>0.0</td>\n",
       "      <td>0.0</td>\n",
       "      <td>0.0</td>\n",
       "      <td>0.0</td>\n",
       "      <td>0.0</td>\n",
       "      <td>0.0</td>\n",
       "    </tr>\n",
       "    <tr>\n",
       "      <th>2</th>\n",
       "      <td>100004</td>\n",
       "      <td>0</td>\n",
       "      <td>Revolving loans</td>\n",
       "      <td>M</td>\n",
       "      <td>Y</td>\n",
       "      <td>Y</td>\n",
       "      <td>0</td>\n",
       "      <td>67500.0</td>\n",
       "      <td>135000.0</td>\n",
       "      <td>6750.0</td>\n",
       "      <td>...</td>\n",
       "      <td>0</td>\n",
       "      <td>0</td>\n",
       "      <td>0</td>\n",
       "      <td>0</td>\n",
       "      <td>0.0</td>\n",
       "      <td>0.0</td>\n",
       "      <td>0.0</td>\n",
       "      <td>0.0</td>\n",
       "      <td>0.0</td>\n",
       "      <td>0.0</td>\n",
       "    </tr>\n",
       "    <tr>\n",
       "      <th>3</th>\n",
       "      <td>100006</td>\n",
       "      <td>0</td>\n",
       "      <td>Cash loans</td>\n",
       "      <td>F</td>\n",
       "      <td>N</td>\n",
       "      <td>Y</td>\n",
       "      <td>0</td>\n",
       "      <td>135000.0</td>\n",
       "      <td>312682.5</td>\n",
       "      <td>29686.5</td>\n",
       "      <td>...</td>\n",
       "      <td>0</td>\n",
       "      <td>0</td>\n",
       "      <td>0</td>\n",
       "      <td>0</td>\n",
       "      <td>NaN</td>\n",
       "      <td>NaN</td>\n",
       "      <td>NaN</td>\n",
       "      <td>NaN</td>\n",
       "      <td>NaN</td>\n",
       "      <td>NaN</td>\n",
       "    </tr>\n",
       "    <tr>\n",
       "      <th>4</th>\n",
       "      <td>100007</td>\n",
       "      <td>0</td>\n",
       "      <td>Cash loans</td>\n",
       "      <td>M</td>\n",
       "      <td>N</td>\n",
       "      <td>Y</td>\n",
       "      <td>0</td>\n",
       "      <td>121500.0</td>\n",
       "      <td>513000.0</td>\n",
       "      <td>21865.5</td>\n",
       "      <td>...</td>\n",
       "      <td>0</td>\n",
       "      <td>0</td>\n",
       "      <td>0</td>\n",
       "      <td>0</td>\n",
       "      <td>0.0</td>\n",
       "      <td>0.0</td>\n",
       "      <td>0.0</td>\n",
       "      <td>0.0</td>\n",
       "      <td>0.0</td>\n",
       "      <td>0.0</td>\n",
       "    </tr>\n",
       "  </tbody>\n",
       "</table>\n",
       "<p>5 rows × 122 columns</p>\n",
       "</div>"
      ],
      "text/plain": [
       "   SK_ID_CURR  TARGET NAME_CONTRACT_TYPE CODE_GENDER FLAG_OWN_CAR  \\\n",
       "0      100002       1         Cash loans           M            N   \n",
       "1      100003       0         Cash loans           F            N   \n",
       "2      100004       0    Revolving loans           M            Y   \n",
       "3      100006       0         Cash loans           F            N   \n",
       "4      100007       0         Cash loans           M            N   \n",
       "\n",
       "  FLAG_OWN_REALTY  CNT_CHILDREN  AMT_INCOME_TOTAL  AMT_CREDIT  AMT_ANNUITY  \\\n",
       "0               Y             0          202500.0    406597.5      24700.5   \n",
       "1               N             0          270000.0   1293502.5      35698.5   \n",
       "2               Y             0           67500.0    135000.0       6750.0   \n",
       "3               Y             0          135000.0    312682.5      29686.5   \n",
       "4               Y             0          121500.0    513000.0      21865.5   \n",
       "\n",
       "   ...  FLAG_DOCUMENT_18 FLAG_DOCUMENT_19 FLAG_DOCUMENT_20 FLAG_DOCUMENT_21  \\\n",
       "0  ...                 0                0                0                0   \n",
       "1  ...                 0                0                0                0   \n",
       "2  ...                 0                0                0                0   \n",
       "3  ...                 0                0                0                0   \n",
       "4  ...                 0                0                0                0   \n",
       "\n",
       "  AMT_REQ_CREDIT_BUREAU_HOUR AMT_REQ_CREDIT_BUREAU_DAY  \\\n",
       "0                        0.0                       0.0   \n",
       "1                        0.0                       0.0   \n",
       "2                        0.0                       0.0   \n",
       "3                        NaN                       NaN   \n",
       "4                        0.0                       0.0   \n",
       "\n",
       "   AMT_REQ_CREDIT_BUREAU_WEEK  AMT_REQ_CREDIT_BUREAU_MON  \\\n",
       "0                         0.0                        0.0   \n",
       "1                         0.0                        0.0   \n",
       "2                         0.0                        0.0   \n",
       "3                         NaN                        NaN   \n",
       "4                         0.0                        0.0   \n",
       "\n",
       "   AMT_REQ_CREDIT_BUREAU_QRT  AMT_REQ_CREDIT_BUREAU_YEAR  \n",
       "0                        0.0                         1.0  \n",
       "1                        0.0                         0.0  \n",
       "2                        0.0                         0.0  \n",
       "3                        NaN                         NaN  \n",
       "4                        0.0                         0.0  \n",
       "\n",
       "[5 rows x 122 columns]"
      ]
     },
     "execution_count": 42,
     "metadata": {},
     "output_type": "execute_result"
    }
   ],
   "source": [
    "data.head()"
   ]
  },
  {
   "cell_type": "markdown",
   "id": "0f74cf4e-c8fa-4d1d-812e-c319e6379dce",
   "metadata": {},
   "source": [
    "# 2. Check for null values"
   ]
  },
  {
   "cell_type": "code",
   "execution_count": 44,
   "id": "9f980196-57ca-406a-9ec4-6866da539a2b",
   "metadata": {},
   "outputs": [
    {
     "name": "stdout",
     "output_type": "stream",
     "text": [
      "67 Samples with missing values\n"
     ]
    }
   ],
   "source": [
    "print(data.isnull().any().sum(),'Samples with missing values')"
   ]
  },
  {
   "cell_type": "code",
   "execution_count": 45,
   "id": "84e0d347-8435-4eb4-94fa-2c75c12f6d6e",
   "metadata": {},
   "outputs": [
    {
     "name": "stdout",
     "output_type": "stream",
     "text": [
      "<class 'pandas.core.frame.DataFrame'>\n",
      "RangeIndex: 307511 entries, 0 to 307510\n",
      "Columns: 122 entries, SK_ID_CURR to AMT_REQ_CREDIT_BUREAU_YEAR\n",
      "dtypes: float64(65), int64(41), object(16)\n",
      "memory usage: 286.2+ MB\n"
     ]
    }
   ],
   "source": [
    "data.info()"
   ]
  },
  {
   "cell_type": "code",
   "execution_count": 47,
   "id": "af51efb8-ba41-4afc-b8ce-05e175a79ba1",
   "metadata": {},
   "outputs": [],
   "source": [
    "data = data.dropna()"
   ]
  },
  {
   "cell_type": "code",
   "execution_count": 48,
   "id": "0891dba6-cc7d-425b-bedf-75bcc3b4b60d",
   "metadata": {},
   "outputs": [
    {
     "data": {
      "text/plain": [
       "False"
      ]
     },
     "execution_count": 48,
     "metadata": {},
     "output_type": "execute_result"
    }
   ],
   "source": [
    "data.isnull().sum().any()"
   ]
  },
  {
   "cell_type": "markdown",
   "id": "eb74d67d-2e84-427c-b9cc-5ac40dac5f8c",
   "metadata": {},
   "source": [
    "# 3. Percentage of default and bar plot"
   ]
  },
  {
   "cell_type": "code",
   "execution_count": 49,
   "id": "2fe195ef-e489-4af3-a558-795bcf658540",
   "metadata": {},
   "outputs": [
    {
     "name": "stdout",
     "output_type": "stream",
     "text": [
      "Percentage of defaults:\n",
      "0    93.885143\n",
      "1     6.114857\n",
      "Name: TARGET, dtype: float64\n"
     ]
    }
   ],
   "source": [
    "default_percent = data['TARGET'].value_counts(normalize=True) * 100\n",
    "print(\"Percentage of defaults:\")\n",
    "print(default_percent)"
   ]
  },
  {
   "cell_type": "code",
   "execution_count": 50,
   "id": "0bd51217-2c13-45fd-aa9a-70c8871f7cc8",
   "metadata": {},
   "outputs": [
    {
     "data": {
      "image/png": "[encoded data removed]",
      "text/plain": [
       "<Figure size 432x288 with 1 Axes>"
      ]
     },
     "metadata": {
      "needs_background": "light"
     },
     "output_type": "display_data"
    }
   ],
   "source": [
    "sns.countplot(data=data, x='TARGET')\n",
    "plt.title('Target Distribution')\n",
    "plt.show()"
   ]
  },
  {
   "cell_type": "markdown",
   "id": "e5450f38-05d1-44d7-ab98-961d3da0bd69",
   "metadata": {},
   "source": [
    "# 4. One-hot encoding of categorical variables"
   ]
  },
  {
   "cell_type": "code",
   "execution_count": 51,
   "id": "55ec07ec-0d60-4f4b-b73d-f6b735473b72",
   "metadata": {},
   "outputs": [],
   "source": [
    "enc_data = pd.get_dummies(data, drop_first=True)"
   ]
  },
  {
   "cell_type": "code",
   "execution_count": 52,
   "id": "8a5a083f-15bb-48e3-a46f-d7662bd4c51c",
   "metadata": {},
   "outputs": [
    {
     "data": {
      "text/html": [
       "<div>\n",
       "<style scoped>\n",
       "    .dataframe tbody tr th:only-of-type {\n",
       "        vertical-align: middle;\n",
       "    }\n",
       "\n",
       "    .dataframe tbody tr th {\n",
       "        vertical-align: top;\n",
       "    }\n",
       "\n",
       "    .dataframe thead th {\n",
       "        text-align: right;\n",
       "    }\n",
       "</style>\n",
       "<table border=\"1\" class=\"dataframe\">\n",
       "  <thead>\n",
       "    <tr style=\"text-align: right;\">\n",
       "      <th></th>\n",
       "      <th>SK_ID_CURR</th>\n",
       "      <th>TARGET</th>\n",
       "      <th>CNT_CHILDREN</th>\n",
       "      <th>AMT_INCOME_TOTAL</th>\n",
       "      <th>AMT_CREDIT</th>\n",
       "      <th>AMT_ANNUITY</th>\n",
       "      <th>AMT_GOODS_PRICE</th>\n",
       "      <th>REGION_POPULATION_RELATIVE</th>\n",
       "      <th>DAYS_BIRTH</th>\n",
       "      <th>DAYS_EMPLOYED</th>\n",
       "      <th>...</th>\n",
       "      <th>FONDKAPREMONT_MODE_reg oper spec account</th>\n",
       "      <th>HOUSETYPE_MODE_specific housing</th>\n",
       "      <th>HOUSETYPE_MODE_terraced house</th>\n",
       "      <th>WALLSMATERIAL_MODE_Mixed</th>\n",
       "      <th>WALLSMATERIAL_MODE_Monolithic</th>\n",
       "      <th>WALLSMATERIAL_MODE_Others</th>\n",
       "      <th>WALLSMATERIAL_MODE_Panel</th>\n",
       "      <th>WALLSMATERIAL_MODE_Stone, brick</th>\n",
       "      <th>WALLSMATERIAL_MODE_Wooden</th>\n",
       "      <th>EMERGENCYSTATE_MODE_Yes</th>\n",
       "    </tr>\n",
       "  </thead>\n",
       "  <tbody>\n",
       "    <tr>\n",
       "      <th>71</th>\n",
       "      <td>100083</td>\n",
       "      <td>0</td>\n",
       "      <td>0</td>\n",
       "      <td>103500.0</td>\n",
       "      <td>573628.5</td>\n",
       "      <td>24435.0</td>\n",
       "      <td>463500.0</td>\n",
       "      <td>0.009657</td>\n",
       "      <td>-15406</td>\n",
       "      <td>-892</td>\n",
       "      <td>...</td>\n",
       "      <td>0</td>\n",
       "      <td>0</td>\n",
       "      <td>0</td>\n",
       "      <td>0</td>\n",
       "      <td>0</td>\n",
       "      <td>0</td>\n",
       "      <td>0</td>\n",
       "      <td>1</td>\n",
       "      <td>0</td>\n",
       "      <td>0</td>\n",
       "    </tr>\n",
       "    <tr>\n",
       "      <th>124</th>\n",
       "      <td>100145</td>\n",
       "      <td>0</td>\n",
       "      <td>1</td>\n",
       "      <td>202500.0</td>\n",
       "      <td>260725.5</td>\n",
       "      <td>16789.5</td>\n",
       "      <td>198000.0</td>\n",
       "      <td>0.018850</td>\n",
       "      <td>-16282</td>\n",
       "      <td>-4375</td>\n",
       "      <td>...</td>\n",
       "      <td>1</td>\n",
       "      <td>0</td>\n",
       "      <td>0</td>\n",
       "      <td>0</td>\n",
       "      <td>0</td>\n",
       "      <td>0</td>\n",
       "      <td>1</td>\n",
       "      <td>0</td>\n",
       "      <td>0</td>\n",
       "      <td>0</td>\n",
       "    </tr>\n",
       "    <tr>\n",
       "      <th>152</th>\n",
       "      <td>100179</td>\n",
       "      <td>0</td>\n",
       "      <td>0</td>\n",
       "      <td>202500.0</td>\n",
       "      <td>675000.0</td>\n",
       "      <td>53329.5</td>\n",
       "      <td>675000.0</td>\n",
       "      <td>0.031329</td>\n",
       "      <td>-11375</td>\n",
       "      <td>-2311</td>\n",
       "      <td>...</td>\n",
       "      <td>0</td>\n",
       "      <td>0</td>\n",
       "      <td>0</td>\n",
       "      <td>0</td>\n",
       "      <td>1</td>\n",
       "      <td>0</td>\n",
       "      <td>0</td>\n",
       "      <td>0</td>\n",
       "      <td>0</td>\n",
       "      <td>0</td>\n",
       "    </tr>\n",
       "    <tr>\n",
       "      <th>161</th>\n",
       "      <td>100190</td>\n",
       "      <td>0</td>\n",
       "      <td>0</td>\n",
       "      <td>162000.0</td>\n",
       "      <td>263686.5</td>\n",
       "      <td>24781.5</td>\n",
       "      <td>238500.0</td>\n",
       "      <td>0.022625</td>\n",
       "      <td>-13972</td>\n",
       "      <td>-4472</td>\n",
       "      <td>...</td>\n",
       "      <td>0</td>\n",
       "      <td>0</td>\n",
       "      <td>0</td>\n",
       "      <td>0</td>\n",
       "      <td>0</td>\n",
       "      <td>0</td>\n",
       "      <td>1</td>\n",
       "      <td>0</td>\n",
       "      <td>0</td>\n",
       "      <td>0</td>\n",
       "    </tr>\n",
       "    <tr>\n",
       "      <th>255</th>\n",
       "      <td>100295</td>\n",
       "      <td>1</td>\n",
       "      <td>1</td>\n",
       "      <td>225000.0</td>\n",
       "      <td>1019205.0</td>\n",
       "      <td>31032.0</td>\n",
       "      <td>774000.0</td>\n",
       "      <td>0.072508</td>\n",
       "      <td>-11356</td>\n",
       "      <td>-602</td>\n",
       "      <td>...</td>\n",
       "      <td>0</td>\n",
       "      <td>0</td>\n",
       "      <td>0</td>\n",
       "      <td>0</td>\n",
       "      <td>0</td>\n",
       "      <td>0</td>\n",
       "      <td>1</td>\n",
       "      <td>0</td>\n",
       "      <td>0</td>\n",
       "      <td>0</td>\n",
       "    </tr>\n",
       "    <tr>\n",
       "      <th>...</th>\n",
       "      <td>...</td>\n",
       "      <td>...</td>\n",
       "      <td>...</td>\n",
       "      <td>...</td>\n",
       "      <td>...</td>\n",
       "      <td>...</td>\n",
       "      <td>...</td>\n",
       "      <td>...</td>\n",
       "      <td>...</td>\n",
       "      <td>...</td>\n",
       "      <td>...</td>\n",
       "      <td>...</td>\n",
       "      <td>...</td>\n",
       "      <td>...</td>\n",
       "      <td>...</td>\n",
       "      <td>...</td>\n",
       "      <td>...</td>\n",
       "      <td>...</td>\n",
       "      <td>...</td>\n",
       "      <td>...</td>\n",
       "      <td>...</td>\n",
       "    </tr>\n",
       "    <tr>\n",
       "      <th>307358</th>\n",
       "      <td>456083</td>\n",
       "      <td>0</td>\n",
       "      <td>2</td>\n",
       "      <td>112500.0</td>\n",
       "      <td>361462.5</td>\n",
       "      <td>16051.5</td>\n",
       "      <td>274500.0</td>\n",
       "      <td>0.025164</td>\n",
       "      <td>-15006</td>\n",
       "      <td>-1105</td>\n",
       "      <td>...</td>\n",
       "      <td>0</td>\n",
       "      <td>0</td>\n",
       "      <td>0</td>\n",
       "      <td>0</td>\n",
       "      <td>0</td>\n",
       "      <td>0</td>\n",
       "      <td>0</td>\n",
       "      <td>1</td>\n",
       "      <td>0</td>\n",
       "      <td>0</td>\n",
       "    </tr>\n",
       "    <tr>\n",
       "      <th>307359</th>\n",
       "      <td>456084</td>\n",
       "      <td>0</td>\n",
       "      <td>1</td>\n",
       "      <td>99000.0</td>\n",
       "      <td>675000.0</td>\n",
       "      <td>21906.0</td>\n",
       "      <td>675000.0</td>\n",
       "      <td>0.020246</td>\n",
       "      <td>-14007</td>\n",
       "      <td>-2021</td>\n",
       "      <td>...</td>\n",
       "      <td>0</td>\n",
       "      <td>0</td>\n",
       "      <td>0</td>\n",
       "      <td>0</td>\n",
       "      <td>0</td>\n",
       "      <td>0</td>\n",
       "      <td>1</td>\n",
       "      <td>0</td>\n",
       "      <td>0</td>\n",
       "      <td>0</td>\n",
       "    </tr>\n",
       "    <tr>\n",
       "      <th>307407</th>\n",
       "      <td>456140</td>\n",
       "      <td>1</td>\n",
       "      <td>1</td>\n",
       "      <td>261000.0</td>\n",
       "      <td>711454.5</td>\n",
       "      <td>47673.0</td>\n",
       "      <td>643500.0</td>\n",
       "      <td>0.018850</td>\n",
       "      <td>-11407</td>\n",
       "      <td>-1641</td>\n",
       "      <td>...</td>\n",
       "      <td>0</td>\n",
       "      <td>0</td>\n",
       "      <td>0</td>\n",
       "      <td>0</td>\n",
       "      <td>0</td>\n",
       "      <td>0</td>\n",
       "      <td>1</td>\n",
       "      <td>0</td>\n",
       "      <td>0</td>\n",
       "      <td>0</td>\n",
       "    </tr>\n",
       "    <tr>\n",
       "      <th>307456</th>\n",
       "      <td>456195</td>\n",
       "      <td>0</td>\n",
       "      <td>0</td>\n",
       "      <td>94500.0</td>\n",
       "      <td>270000.0</td>\n",
       "      <td>15075.0</td>\n",
       "      <td>270000.0</td>\n",
       "      <td>0.028663</td>\n",
       "      <td>-20246</td>\n",
       "      <td>-5452</td>\n",
       "      <td>...</td>\n",
       "      <td>0</td>\n",
       "      <td>0</td>\n",
       "      <td>0</td>\n",
       "      <td>0</td>\n",
       "      <td>0</td>\n",
       "      <td>0</td>\n",
       "      <td>0</td>\n",
       "      <td>1</td>\n",
       "      <td>0</td>\n",
       "      <td>0</td>\n",
       "    </tr>\n",
       "    <tr>\n",
       "      <th>307482</th>\n",
       "      <td>456226</td>\n",
       "      <td>0</td>\n",
       "      <td>0</td>\n",
       "      <td>225000.0</td>\n",
       "      <td>500566.5</td>\n",
       "      <td>34969.5</td>\n",
       "      <td>472500.0</td>\n",
       "      <td>0.031329</td>\n",
       "      <td>-14106</td>\n",
       "      <td>-226</td>\n",
       "      <td>...</td>\n",
       "      <td>0</td>\n",
       "      <td>0</td>\n",
       "      <td>0</td>\n",
       "      <td>0</td>\n",
       "      <td>0</td>\n",
       "      <td>0</td>\n",
       "      <td>0</td>\n",
       "      <td>0</td>\n",
       "      <td>0</td>\n",
       "      <td>0</td>\n",
       "    </tr>\n",
       "  </tbody>\n",
       "</table>\n",
       "<p>8602 rows × 219 columns</p>\n",
       "</div>"
      ],
      "text/plain": [
       "        SK_ID_CURR  TARGET  CNT_CHILDREN  AMT_INCOME_TOTAL  AMT_CREDIT  \\\n",
       "71          100083       0             0          103500.0    573628.5   \n",
       "124         100145       0             1          202500.0    260725.5   \n",
       "152         100179       0             0          202500.0    675000.0   \n",
       "161         100190       0             0          162000.0    263686.5   \n",
       "255         100295       1             1          225000.0   1019205.0   \n",
       "...            ...     ...           ...               ...         ...   \n",
       "307358      456083       0             2          112500.0    361462.5   \n",
       "307359      456084       0             1           99000.0    675000.0   \n",
       "307407      456140       1             1          261000.0    711454.5   \n",
       "307456      456195       0             0           94500.0    270000.0   \n",
       "307482      456226       0             0          225000.0    500566.5   \n",
       "\n",
       "        AMT_ANNUITY  AMT_GOODS_PRICE  REGION_POPULATION_RELATIVE  DAYS_BIRTH  \\\n",
       "71          24435.0         463500.0                    0.009657      -15406   \n",
       "124         16789.5         198000.0                    0.018850      -16282   \n",
       "152         53329.5         675000.0                    0.031329      -11375   \n",
       "161         24781.5         238500.0                    0.022625      -13972   \n",
       "255         31032.0         774000.0                    0.072508      -11356   \n",
       "...             ...              ...                         ...         ...   \n",
       "307358      16051.5         274500.0                    0.025164      -15006   \n",
       "307359      21906.0         675000.0                    0.020246      -14007   \n",
       "307407      47673.0         643500.0                    0.018850      -11407   \n",
       "307456      15075.0         270000.0                    0.028663      -20246   \n",
       "307482      34969.5         472500.0                    0.031329      -14106   \n",
       "\n",
       "        DAYS_EMPLOYED  ...  FONDKAPREMONT_MODE_reg oper spec account  \\\n",
       "71               -892  ...                                         0   \n",
       "124             -4375  ...                                         1   \n",
       "152             -2311  ...                                         0   \n",
       "161             -4472  ...                                         0   \n",
       "255              -602  ...                                         0   \n",
       "...               ...  ...                                       ...   \n",
       "307358          -1105  ...                                         0   \n",
       "307359          -2021  ...                                         0   \n",
       "307407          -1641  ...                                         0   \n",
       "307456          -5452  ...                                         0   \n",
       "307482           -226  ...                                         0   \n",
       "\n",
       "        HOUSETYPE_MODE_specific housing  HOUSETYPE_MODE_terraced house  \\\n",
       "71                                    0                              0   \n",
       "124                                   0                              0   \n",
       "152                                   0                              0   \n",
       "161                                   0                              0   \n",
       "255                                   0                              0   \n",
       "...                                 ...                            ...   \n",
       "307358                                0                              0   \n",
       "307359                                0                              0   \n",
       "307407                                0                              0   \n",
       "307456                                0                              0   \n",
       "307482                                0                              0   \n",
       "\n",
       "        WALLSMATERIAL_MODE_Mixed  WALLSMATERIAL_MODE_Monolithic  \\\n",
       "71                             0                              0   \n",
       "124                            0                              0   \n",
       "152                            0                              1   \n",
       "161                            0                              0   \n",
       "255                            0                              0   \n",
       "...                          ...                            ...   \n",
       "307358                         0                              0   \n",
       "307359                         0                              0   \n",
       "307407                         0                              0   \n",
       "307456                         0                              0   \n",
       "307482                         0                              0   \n",
       "\n",
       "        WALLSMATERIAL_MODE_Others  WALLSMATERIAL_MODE_Panel  \\\n",
       "71                              0                         0   \n",
       "124                             0                         1   \n",
       "152                             0                         0   \n",
       "161                             0                         1   \n",
       "255                             0                         1   \n",
       "...                           ...                       ...   \n",
       "307358                          0                         0   \n",
       "307359                          0                         1   \n",
       "307407                          0                         1   \n",
       "307456                          0                         0   \n",
       "307482                          0                         0   \n",
       "\n",
       "        WALLSMATERIAL_MODE_Stone, brick  WALLSMATERIAL_MODE_Wooden  \\\n",
       "71                                    1                          0   \n",
       "124                                   0                          0   \n",
       "152                                   0                          0   \n",
       "161                                   0                          0   \n",
       "255                                   0                          0   \n",
       "...                                 ...                        ...   \n",
       "307358                                1                          0   \n",
       "307359                                0                          0   \n",
       "307407                                0                          0   \n",
       "307456                                1                          0   \n",
       "307482                                0                          0   \n",
       "\n",
       "        EMERGENCYSTATE_MODE_Yes  \n",
       "71                            0  \n",
       "124                           0  \n",
       "152                           0  \n",
       "161                           0  \n",
       "255                           0  \n",
       "...                         ...  \n",
       "307358                        0  \n",
       "307359                        0  \n",
       "307407                        0  \n",
       "307456                        0  \n",
       "307482                        0  \n",
       "\n",
       "[8602 rows x 219 columns]"
      ]
     },
     "execution_count": 52,
     "metadata": {},
     "output_type": "execute_result"
    }
   ],
   "source": [
    "enc_data"
   ]
  },
  {
   "cell_type": "markdown",
   "id": "8f34c580-f6a9-433c-a21c-11d5c7171f9a",
   "metadata": {},
   "source": [
    "# 5. Balance the dataset using SMOTE"
   ]
  },
  {
   "cell_type": "code",
   "execution_count": 53,
   "id": "426046da-a1b7-47cd-9db9-c7ee46fdb078",
   "metadata": {},
   "outputs": [],
   "source": [
    "X = enc_data.drop(columns=['TARGET'])\n",
    "y = enc_data['TARGET']"
   ]
  },
  {
   "cell_type": "code",
   "execution_count": 54,
   "id": "0c9efb2a-bc4b-4223-a8c0-d5f08bda6bd4",
   "metadata": {},
   "outputs": [],
   "source": [
    "smote = SMOTE(random_state=42)\n",
    "X_resampled, y_resampled = smote.fit_resample(X, y)"
   ]
  },
  {
   "cell_type": "markdown",
   "id": "941841de-cc84-4bd4-8cc2-a623b2590c4d",
   "metadata": {},
   "source": [
    "# 6. Plot balanced data"
   ]
  },
  {
   "cell_type": "code",
   "execution_count": 56,
   "id": "bdb971d5-63f4-4232-82e6-791f401c1270",
   "metadata": {},
   "outputs": [
    {
     "data": {
      "image/png": "[encoded data removed]",
      "text/plain": [
       "<Figure size 432x288 with 1 Axes>"
      ]
     },
     "metadata": {
      "needs_background": "light"
     },
     "output_type": "display_data"
    }
   ],
   "source": [
    "sns.countplot(x=y_resampled)\n",
    "plt.title('Balanced Target Distribution')\n",
    "plt.show()"
   ]
  },
  {
   "cell_type": "markdown",
   "id": "fa6f6b2f-306a-4385-9880-0cd8daabff93",
   "metadata": {},
   "source": [
    "# 7. Train-test split with a test size of 20%"
   ]
  },
  {
   "cell_type": "code",
   "execution_count": 57,
   "id": "e513b44b-cd1a-4cb9-9d65-c47ea5a1624f",
   "metadata": {},
   "outputs": [],
   "source": [
    "X_train, X_test, y_train, y_test = train_test_split(X_resampled, y_resampled, test_size=0.2, random_state=42, stratify=y_resampled)"
   ]
  },
  {
   "cell_type": "markdown",
   "id": "bcf2d17a-57ae-4ce5-ac11-bcd33becb8ad",
   "metadata": {},
   "source": [
    "# 8. Normalize the features"
   ]
  },
  {
   "cell_type": "code",
   "execution_count": 58,
   "id": "a80db7e5-471f-4954-a342-734a4a8a817b",
   "metadata": {},
   "outputs": [],
   "source": [
    "scaler = MinMaxScaler()\n",
    "X_train_scaled = scaler.fit_transform(X_train)\n",
    "X_test_scaled = scaler.transform(X_test)"
   ]
  },
  {
   "cell_type": "markdown",
   "id": "93af7093-9413-4b63-a346-006478534f83",
   "metadata": {},
   "source": [
    "# 9. Build the deep learning model"
   ]
  },
  {
   "cell_type": "code",
   "execution_count": 59,
   "id": "abc89b1d-2a18-40fc-9360-f8ce0029bf12",
   "metadata": {},
   "outputs": [],
   "source": [
    "model = Sequential([\n",
    "    Dense(80, activation='relu', input_dim=X_train_scaled.shape[1]),\n",
    "    Dropout(0.2),\n",
    "    Dense(80, activation='relu'),\n",
    "    Dropout(0.2),\n",
    "    Dense(1, activation='sigmoid')  # Binary classification\n",
    "])"
   ]
  },
  {
   "cell_type": "markdown",
   "id": "1cfe9d57-dc7c-4ef5-8b43-c0c29edf8328",
   "metadata": {},
   "source": [
    "# 10. Compile the model"
   ]
  },
  {
   "cell_type": "code",
   "execution_count": 60,
   "id": "d6c613d3-91ab-451c-9a68-4a9127294833",
   "metadata": {},
   "outputs": [],
   "source": [
    "model.compile(optimizer='adam', loss='binary_crossentropy', metrics=['accuracy'])"
   ]
  },
  {
   "cell_type": "markdown",
   "id": "deda0fe7-8108-475d-be79-c5f0a1a6dcf7",
   "metadata": {},
   "source": [
    "# 11. Train the model"
   ]
  },
  {
   "cell_type": "code",
   "execution_count": 61,
   "id": "dcb7a40e-0cdb-4e23-942f-ef0aeae04b7b",
   "metadata": {},
   "outputs": [
    {
     "name": "stdout",
     "output_type": "stream",
     "text": [
      "Epoch 1/50\n",
      "364/364 [==============================] - 1s 1ms/step - loss: 0.2502 - accuracy: 0.9124 - val_loss: 0.1524 - val_accuracy: 0.9567\n",
      "Epoch 2/50\n",
      "364/364 [==============================] - 0s 1ms/step - loss: 0.1495 - accuracy: 0.9545 - val_loss: 0.1373 - val_accuracy: 0.9590\n",
      "Epoch 3/50\n",
      "364/364 [==============================] - 0s 1ms/step - loss: 0.1376 - accuracy: 0.9554 - val_loss: 0.1284 - val_accuracy: 0.9606\n",
      "Epoch 4/50\n",
      "364/364 [==============================] - 0s 1ms/step - loss: 0.1296 - accuracy: 0.9596 - val_loss: 0.1245 - val_accuracy: 0.9629\n",
      "Epoch 5/50\n",
      "364/364 [==============================] - 0s 1ms/step - loss: 0.1258 - accuracy: 0.9598 - val_loss: 0.1437 - val_accuracy: 0.9551\n",
      "Epoch 6/50\n",
      "364/364 [==============================] - 0s 1ms/step - loss: 0.1210 - accuracy: 0.9622 - val_loss: 0.1252 - val_accuracy: 0.9637\n",
      "Epoch 7/50\n",
      "364/364 [==============================] - 0s 1ms/step - loss: 0.1155 - accuracy: 0.9624 - val_loss: 0.1265 - val_accuracy: 0.9598\n",
      "Epoch 8/50\n",
      "364/364 [==============================] - 0s 1ms/step - loss: 0.1099 - accuracy: 0.9643 - val_loss: 0.1220 - val_accuracy: 0.9621\n",
      "Epoch 9/50\n",
      "364/364 [==============================] - 0s 1ms/step - loss: 0.1053 - accuracy: 0.9660 - val_loss: 0.1296 - val_accuracy: 0.9637\n",
      "Epoch 10/50\n",
      "364/364 [==============================] - 0s 1ms/step - loss: 0.1013 - accuracy: 0.9671 - val_loss: 0.1283 - val_accuracy: 0.9613\n",
      "Epoch 11/50\n",
      "364/364 [==============================] - 0s 1ms/step - loss: 0.0980 - accuracy: 0.9663 - val_loss: 0.1373 - val_accuracy: 0.9629\n",
      "Epoch 12/50\n",
      "364/364 [==============================] - 0s 1ms/step - loss: 0.0920 - accuracy: 0.9689 - val_loss: 0.1419 - val_accuracy: 0.9536\n",
      "Epoch 13/50\n",
      "364/364 [==============================] - 0s 1ms/step - loss: 0.0865 - accuracy: 0.9700 - val_loss: 0.1365 - val_accuracy: 0.9629\n",
      "Epoch 14/50\n",
      "364/364 [==============================] - 0s 1ms/step - loss: 0.0831 - accuracy: 0.9709 - val_loss: 0.1350 - val_accuracy: 0.9613\n",
      "Epoch 15/50\n",
      "364/364 [==============================] - 0s 1ms/step - loss: 0.0810 - accuracy: 0.9704 - val_loss: 0.1487 - val_accuracy: 0.9606\n",
      "Epoch 16/50\n",
      "364/364 [==============================] - 0s 1ms/step - loss: 0.0758 - accuracy: 0.9727 - val_loss: 0.1485 - val_accuracy: 0.9551\n",
      "Epoch 17/50\n",
      "364/364 [==============================] - 0s 1ms/step - loss: 0.0729 - accuracy: 0.9749 - val_loss: 0.1543 - val_accuracy: 0.9559\n",
      "Epoch 18/50\n",
      "364/364 [==============================] - 0s 1ms/step - loss: 0.0673 - accuracy: 0.9759 - val_loss: 0.1545 - val_accuracy: 0.9637\n",
      "Epoch 19/50\n",
      "364/364 [==============================] - 0s 1ms/step - loss: 0.0672 - accuracy: 0.9773 - val_loss: 0.1601 - val_accuracy: 0.9582\n",
      "Epoch 20/50\n",
      "364/364 [==============================] - 0s 1ms/step - loss: 0.0613 - accuracy: 0.9778 - val_loss: 0.1789 - val_accuracy: 0.9606\n",
      "Epoch 21/50\n",
      "364/364 [==============================] - 0s 1ms/step - loss: 0.0612 - accuracy: 0.9776 - val_loss: 0.1749 - val_accuracy: 0.9598\n",
      "Epoch 22/50\n",
      "364/364 [==============================] - 0s 1ms/step - loss: 0.0564 - accuracy: 0.9794 - val_loss: 0.1808 - val_accuracy: 0.9551\n",
      "Epoch 23/50\n",
      "364/364 [==============================] - 0s 1ms/step - loss: 0.0568 - accuracy: 0.9790 - val_loss: 0.1749 - val_accuracy: 0.9528\n",
      "Epoch 24/50\n",
      "364/364 [==============================] - 0s 1ms/step - loss: 0.0509 - accuracy: 0.9809 - val_loss: 0.1886 - val_accuracy: 0.9613\n",
      "Epoch 25/50\n",
      "364/364 [==============================] - 0s 1ms/step - loss: 0.0502 - accuracy: 0.9804 - val_loss: 0.1797 - val_accuracy: 0.9559\n",
      "Epoch 26/50\n",
      "364/364 [==============================] - 0s 1ms/step - loss: 0.0483 - accuracy: 0.9820 - val_loss: 0.1947 - val_accuracy: 0.9575\n",
      "Epoch 27/50\n",
      "364/364 [==============================] - 0s 1ms/step - loss: 0.0467 - accuracy: 0.9837 - val_loss: 0.1857 - val_accuracy: 0.9559\n",
      "Epoch 28/50\n",
      "364/364 [==============================] - 0s 1ms/step - loss: 0.0436 - accuracy: 0.9837 - val_loss: 0.1982 - val_accuracy: 0.9567\n",
      "Epoch 29/50\n",
      "364/364 [==============================] - 0s 1ms/step - loss: 0.0413 - accuracy: 0.9844 - val_loss: 0.2124 - val_accuracy: 0.9606\n",
      "Epoch 30/50\n",
      "364/364 [==============================] - 0s 1ms/step - loss: 0.0399 - accuracy: 0.9856 - val_loss: 0.2221 - val_accuracy: 0.9613\n",
      "Epoch 31/50\n",
      "364/364 [==============================] - 0s 1ms/step - loss: 0.0373 - accuracy: 0.9855 - val_loss: 0.2613 - val_accuracy: 0.9613\n",
      "Epoch 32/50\n",
      "364/364 [==============================] - 0s 1ms/step - loss: 0.0394 - accuracy: 0.9850 - val_loss: 0.2344 - val_accuracy: 0.9606\n",
      "Epoch 33/50\n",
      "364/364 [==============================] - 0s 1ms/step - loss: 0.0371 - accuracy: 0.9862 - val_loss: 0.2223 - val_accuracy: 0.9598\n",
      "Epoch 34/50\n",
      "364/364 [==============================] - 0s 1ms/step - loss: 0.0351 - accuracy: 0.9867 - val_loss: 0.2119 - val_accuracy: 0.9551\n",
      "Epoch 35/50\n",
      "364/364 [==============================] - 0s 1ms/step - loss: 0.0319 - accuracy: 0.9885 - val_loss: 0.2268 - val_accuracy: 0.9551\n",
      "Epoch 36/50\n",
      "364/364 [==============================] - 0s 1ms/step - loss: 0.0333 - accuracy: 0.9870 - val_loss: 0.2291 - val_accuracy: 0.9544\n",
      "Epoch 37/50\n",
      "364/364 [==============================] - 0s 1ms/step - loss: 0.0343 - accuracy: 0.9873 - val_loss: 0.2644 - val_accuracy: 0.9606\n",
      "Epoch 38/50\n",
      "364/364 [==============================] - 0s 1ms/step - loss: 0.0306 - accuracy: 0.9886 - val_loss: 0.2473 - val_accuracy: 0.9582\n",
      "Epoch 39/50\n",
      "364/364 [==============================] - 0s 1ms/step - loss: 0.0287 - accuracy: 0.9890 - val_loss: 0.2638 - val_accuracy: 0.9551\n",
      "Epoch 40/50\n",
      "364/364 [==============================] - 0s 1ms/step - loss: 0.0316 - accuracy: 0.9877 - val_loss: 0.2631 - val_accuracy: 0.9544\n",
      "Epoch 41/50\n",
      "364/364 [==============================] - 0s 1ms/step - loss: 0.0294 - accuracy: 0.9897 - val_loss: 0.2639 - val_accuracy: 0.9575\n",
      "Epoch 42/50\n",
      "364/364 [==============================] - 0s 1ms/step - loss: 0.0305 - accuracy: 0.9890 - val_loss: 0.2590 - val_accuracy: 0.9513\n",
      "Epoch 43/50\n",
      "364/364 [==============================] - 0s 1ms/step - loss: 0.0271 - accuracy: 0.9906 - val_loss: 0.2669 - val_accuracy: 0.9598\n",
      "Epoch 44/50\n",
      "364/364 [==============================] - 0s 1ms/step - loss: 0.0264 - accuracy: 0.9902 - val_loss: 0.2933 - val_accuracy: 0.9559\n",
      "Epoch 45/50\n",
      "364/364 [==============================] - 0s 1ms/step - loss: 0.0289 - accuracy: 0.9889 - val_loss: 0.2597 - val_accuracy: 0.9551\n",
      "Epoch 46/50\n",
      "364/364 [==============================] - 0s 1ms/step - loss: 0.0248 - accuracy: 0.9911 - val_loss: 0.2617 - val_accuracy: 0.9567\n",
      "Epoch 47/50\n",
      "364/364 [==============================] - 0s 1ms/step - loss: 0.0216 - accuracy: 0.9913 - val_loss: 0.2982 - val_accuracy: 0.9575\n",
      "Epoch 48/50\n",
      "364/364 [==============================] - 0s 1ms/step - loss: 0.0264 - accuracy: 0.9904 - val_loss: 0.2640 - val_accuracy: 0.9443\n",
      "Epoch 49/50\n",
      "364/364 [==============================] - 0s 1ms/step - loss: 0.0256 - accuracy: 0.9905 - val_loss: 0.2816 - val_accuracy: 0.9575\n",
      "Epoch 50/50\n",
      "364/364 [==============================] - 0s 1ms/step - loss: 0.0209 - accuracy: 0.9917 - val_loss: 0.2819 - val_accuracy: 0.9559\n"
     ]
    }
   ],
   "source": [
    "history = model.fit(X_train_scaled, y_train, epochs=50, validation_split=0.1, batch_size=32)"
   ]
  },
  {
   "cell_type": "markdown",
   "id": "7c7847dc-c462-499a-825c-b520fbd6e29b",
   "metadata": {},
   "source": [
    "# 12. Print model summary"
   ]
  },
  {
   "cell_type": "code",
   "execution_count": 62,
   "id": "846b6e02-752e-4d03-9510-e76510afc4cf",
   "metadata": {},
   "outputs": [
    {
     "name": "stdout",
     "output_type": "stream",
     "text": [
      "Model: \"sequential_1\"\n",
      "_________________________________________________________________\n",
      " Layer (type)                Output Shape              Param #   \n",
      "=================================================================\n",
      " dense_3 (Dense)             (None, 80)                17520     \n",
      "                                                                 \n",
      " dropout_2 (Dropout)         (None, 80)                0         \n",
      "                                                                 \n",
      " dense_4 (Dense)             (None, 80)                6480      \n",
      "                                                                 \n",
      " dropout_3 (Dropout)         (None, 80)                0         \n",
      "                                                                 \n",
      " dense_5 (Dense)             (None, 1)                 81        \n",
      "                                                                 \n",
      "=================================================================\n",
      "Total params: 24081 (94.07 KB)\n",
      "Trainable params: 24081 (94.07 KB)\n",
      "Non-trainable params: 0 (0.00 Byte)\n",
      "_________________________________________________________________\n"
     ]
    }
   ],
   "source": [
    "model.summary()"
   ]
  },
  {
   "cell_type": "markdown",
   "id": "3fe7df5f-10d0-4022-8289-5899529b9323",
   "metadata": {},
   "source": [
    "# 13. Evaluate on test set"
   ]
  },
  {
   "cell_type": "code",
   "execution_count": 63,
   "id": "8ef1d5b6-d9bb-4ed0-862a-717ce5f0a2c9",
   "metadata": {},
   "outputs": [
    {
     "name": "stdout",
     "output_type": "stream",
     "text": [
      "101/101 [==============================] - 0s 664us/step - loss: 0.3615 - accuracy: 0.9526\n",
      "Test Loss: 0.3614721894264221, Test Accuracy: 0.9526462554931641\n"
     ]
    }
   ],
   "source": [
    "loss, accuracy = model.evaluate(X_test_scaled, y_test)\n",
    "print(f\"Test Loss: {loss}, Test Accuracy: {accuracy}\")"
   ]
  },
  {
   "cell_type": "markdown",
   "id": "4ed583cc-4168-4ecd-bae1-61acb9d1d101",
   "metadata": {},
   "source": [
    "# 14. Predictions and confusion matrix"
   ]
  },
  {
   "cell_type": "code",
   "execution_count": 64,
   "id": "dc65d271-cdb0-480d-86b0-f625d23406d8",
   "metadata": {},
   "outputs": [
    {
     "name": "stdout",
     "output_type": "stream",
     "text": [
      "101/101 [==============================] - 0s 614us/step\n",
      "Confusion Matrix:\n",
      "[[1559   57]\n",
      " [  96 1519]]\n"
     ]
    }
   ],
   "source": [
    "y_pred = (model.predict(X_test_scaled) > 0.5).astype(\"int32\")\n",
    "cm = confusion_matrix(y_test, y_pred)\n",
    "print(\"Confusion Matrix:\")\n",
    "print(cm)"
   ]
  },
  {
   "cell_type": "markdown",
   "id": "54745926-ba0a-49c1-8cef-a10155eeb304",
   "metadata": {},
   "source": [
    "## 14.1 Plot confusion matrix\n",
    "___"
   ]
  },
  {
   "cell_type": "code",
   "execution_count": 65,
   "id": "eec77037-5633-4824-a329-976f6c01a774",
   "metadata": {},
   "outputs": [
    {
     "data": {
      "image/png": "[encoded data removed]",
      "text/plain": [
       "<Figure size 432x288 with 2 Axes>"
      ]
     },
     "metadata": {
      "needs_background": "light"
     },
     "output_type": "display_data"
    }
   ],
   "source": [
    "sns.heatmap(cm, annot=True, fmt='d', cmap='Blues')\n",
    "plt.title('Confusion Matrix')\n",
    "plt.show()"
   ]
  },
  {
   "cell_type": "markdown",
   "id": "42bbc6d6-f237-4178-92a3-9d524476db25",
   "metadata": {},
   "source": [
    "# 15. ROC-AUC curve"
   ]
  },
  {
   "cell_type": "code",
   "execution_count": 66,
   "id": "813dc70a-0ca5-4b45-b815-fd3046be8df7",
   "metadata": {},
   "outputs": [
    {
     "name": "stdout",
     "output_type": "stream",
     "text": [
      "101/101 [==============================] - 0s 603us/step\n"
     ]
    }
   ],
   "source": [
    "fpr, tpr, thresholds = roc_curve(y_test, model.predict(X_test_scaled))\n",
    "roc_auc = auc(fpr, tpr)"
   ]
  },
  {
   "cell_type": "code",
   "execution_count": 67,
   "id": "ac793ec9-798f-4c47-8cb7-b68afebd5fb8",
   "metadata": {},
   "outputs": [
    {
     "data": {
      "image/png": "[encoded data removed]",
      "text/plain": [
       "<Figure size 432x288 with 1 Axes>"
      ]
     },
     "metadata": {
      "needs_background": "light"
     },
     "output_type": "display_data"
    }
   ],
   "source": [
    "plt.plot(fpr, tpr, label=f\"AUC = {roc_auc:.2f}\")\n",
    "plt.plot([0, 1], [0, 1], 'k--')\n",
    "plt.xlabel('False Positive Rate')\n",
    "plt.ylabel('True Positive Rate')\n",
    "plt.title('ROC Curve')\n",
    "plt.legend(loc='best')\n",
    "plt.show()"
   ]
  },
  {
   "cell_type": "markdown",
   "id": "788e9d57-e6cb-46eb-937e-20e7b9429988",
   "metadata": {},
   "source": [
    "# THANK YOU"
   ]
  }
 ],
 "metadata": {
  "kernelspec": {
   "display_name": "Python 3 [3.10]",
   "language": "python",
   "name": "python3"
  },
  "language_info": {
   "codemirror_mode": {
    "name": "ipython",
    "version": 3
   },
   "file_extension": ".py",
   "mimetype": "text/x-python",
   "name": "python",
   "nbconvert_exporter": "python",
   "pygments_lexer": "ipython3",
   "version": "3.10.2"
  }
 },
 "nbformat": 4,
 "nbformat_minor": 5
}
